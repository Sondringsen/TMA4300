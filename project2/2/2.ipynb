{
 "cells": [
  {
   "cell_type": "code",
   "execution_count": null,
   "metadata": {
    "vscode": {
     "languageId": "r"
    }
   },
   "outputs": [],
   "source": [
    "install.packages(\n",
    "    \"INLA\",\n",
    "    repos=c(getOption(\"repos\"),\n",
    "    INLA=\"https://inla.r-inla-download.org/R/stable\"),\n",
    "    dep=TRUE)\n",
    "\n",
    "library(\"INLA\")"
   ]
  },
  {
   "cell_type": "code",
   "execution_count": null,
   "metadata": {
    "vscode": {
     "languageId": "r"
    }
   },
   "outputs": [],
   "source": [
    "control.inla = list(strategy=\"simplified.laplace\", int.strategy=\"ccd\")\n",
    "\n",
    "mod <- inla(n.rain ~ -1 + f(day, model=\"rw1\", constr=FALSE),\n",
    "            data=rain, Ntrials=n.years, control.compute=list(config = TRUE),\n",
    "            family=\"binomial\", verbose=TRUE, control.inla=control.inla)"
   ]
  }
 ],
 "metadata": {
  "kernelspec": {
   "display_name": "R",
   "language": "R",
   "name": "ir"
  },
  "language_info": {
   "codemirror_mode": "r",
   "file_extension": ".r",
   "mimetype": "text/x-r-source",
   "name": "R",
   "pygments_lexer": "r",
   "version": "4.3.3"
  }
 },
 "nbformat": 4,
 "nbformat_minor": 2
}
